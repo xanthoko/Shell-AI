{
 "cells": [
  {
   "cell_type": "code",
   "execution_count": 1,
   "metadata": {},
   "outputs": [],
   "source": [
    "import random"
   ]
  },
  {
   "cell_type": "code",
   "execution_count": 81,
   "metadata": {},
   "outputs": [
    {
     "name": "stdout",
     "output_type": "stream",
     "text": [
      "Unique chromosomes in generation asdasd: 1 out of 5\n"
     ]
    }
   ],
   "source": [
    "generation = 'asdasd'\n",
    "\n",
    "population = [(1,2),(1,2),(1,2),(1,2),(1,2)]\n",
    "\n",
    "print(f'Unique chromosomes in generation {generation}: {len(set(population))} out of {len(population)}')"
   ]
  }
 ],
 "metadata": {
  "kernelspec": {
   "display_name": "Python 3.10.7 ('shell_venv': venv)",
   "language": "python",
   "name": "python3"
  },
  "language_info": {
   "codemirror_mode": {
    "name": "ipython",
    "version": 3
   },
   "file_extension": ".py",
   "mimetype": "text/x-python",
   "name": "python",
   "nbconvert_exporter": "python",
   "pygments_lexer": "ipython3",
   "version": "3.10.7"
  },
  "orig_nbformat": 4,
  "vscode": {
   "interpreter": {
    "hash": "1f530ae655760cbc51bc2b5182b73f90c3ac5e4c9d1acb152cb5e255df94a991"
   }
  }
 },
 "nbformat": 4,
 "nbformat_minor": 2
}
