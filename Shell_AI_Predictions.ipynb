{
 "cells": [
  {
   "cell_type": "code",
   "execution_count": null,
   "metadata": {
    "id": "Vidm6Oc_23fG"
   },
   "outputs": [],
   "source": [
    "from google.colab import drive\n",
    "drive.mount('/content/drive')"
   ]
  },
  {
   "cell_type": "code",
   "execution_count": 2,
   "metadata": {
    "id": "nof-hR1KodHS"
   },
   "outputs": [
    {
     "name": "stderr",
     "output_type": "stream",
     "text": [
      "C:\\Users\\Tolis\\AppData\\Local\\Packages\\PythonSoftwareFoundation.Python.3.9_qbz5n2kfra8p0\\LocalCache\\local-packages\\Python39\\site-packages\\xgboost\\compat.py:31: FutureWarning: pandas.Int64Index is deprecated and will be removed from pandas in a future version. Use pandas.Index with the appropriate dtype instead.\n",
      "  from pandas import MultiIndex, Int64Index\n"
     ]
    }
   ],
   "source": [
    "# Importing the libraries\n",
    "\n",
    "import IPython\n",
    "import matplotlib.pyplot as plt\n",
    "from scipy import ndimage\n",
    "from sklearn.metrics import mean_absolute_error, mean_squared_error\n",
    "import lightgbm as lgb\n",
    "import numpy as np\n",
    "import xgboost as xgb\n",
    "from matplotlib.pyplot import figure\n",
    "from sklearn.metrics import mean_squared_error\n",
    "from math import sqrt\n",
    "import os\n",
    "import numpy as np\n",
    "import pandas as pd\n",
    "\n",
    "# To disable annoying warnings \n",
    "import warnings\n",
    "\n",
    "warnings.filterwarnings('ignore')\n",
    "\n",
    "\n",
    "# Prophet model for time series forecast\n",
    "from prophet import Prophet\n",
    "# Visualization\n",
    "import seaborn as sns\n",
    "import matplotlib.pyplot as plt\n",
    "# Multi-processing\n",
    "from multiprocessing import Pool, cpu_count\n",
    "\n",
    "# Process bar\n",
    "from tqdm.notebook import tqdm\n",
    "# Tracking time\n",
    "from time import time\n",
    "\n",
    "#!pip install neuralprophet\n",
    "from neuralprophet import NeuralProphet\n",
    "\n",
    "# Import models\n",
    "from sklearn.preprocessing import PolynomialFeatures\n",
    "from sklearn.linear_model import LinearRegression\n",
    "from statsmodels.tsa.statespace.sarimax import SARIMAX\n",
    "from sklearn.kernel_ridge import KernelRidge\n",
    "\n",
    "import sys"
   ]
  },
  {
   "cell_type": "code",
   "execution_count": 5,
   "metadata": {
    "id": "8Q_RUGofoWio"
   },
   "outputs": [],
   "source": [
    "# Import from uploaded files \n",
    "base_dir = './dataset/'\n",
    "#base_dir = '/content/drive/MyDrive/ShellBy AI/'\n",
    "\n",
    "demand_history = pd.read_csv(base_dir + 'Demand_History.csv')\n",
    "existing_ev = pd.read_csv(base_dir + 'exisiting_EV_infrastructure_2018.csv')\n",
    "sample_sub = pd.read_csv(base_dir + 'sample_submission.csv')\n",
    "\n",
    "prophet_forecasts = pd.read_csv(base_dir + 'prophet_2019_2020.csv')\n",
    "prophet_18 = pd.read_csv(base_dir + 'prophet_2018.csv')\n"
   ]
  },
  {
   "cell_type": "code",
   "execution_count": 6,
   "metadata": {
    "id": "LlLmTnhHKxzh"
   },
   "outputs": [],
   "source": [
    "def demand_data_prep(demand_history: pd.DataFrame):\n",
    "  demand_points_history = demand_history.drop(columns =['x_coordinate','y_coordinate'])\n",
    "  demand_points_history = demand_points_history[['demand_point_index', '2010', '2011', '2012', '2013', '2014', '2015','2016', '2017']]\n",
    "  demand_history_test = demand_points_history.T.iloc[1:,:]\n",
    "  demand_points_ids=demand_history_test.columns.tolist()\n",
    "  demand_history_test = demand_history_test.reset_index()\n",
    "  demand_history_test = pd.melt(demand_history_test, id_vars =\"index\", value_vars =demand_points_ids )\n",
    "  demand_history_test = demand_history_test.rename(columns = {\"index\":\"ds\",\"variable\":\"dp_id\",\"value\":\"y\"})\n",
    "  return demand_history_test, demand_points_ids\n"
   ]
  },
  {
   "cell_type": "code",
   "execution_count": 71,
   "metadata": {},
   "outputs": [],
   "source": [
    "def prophet_results(demand_history):\n",
    "    demand_history_test, demand_points_ids = demand_data_prep(demand_history)\n",
    "    groups_by_variable = demand_history_test.groupby('dp_id')\n",
    "    # Multi-process Prophet Training \n",
    "    # Start time\n",
    "    start_time = time()\n",
    "\n",
    "    #TEST SECTION\n",
    "    # Get time series data for each ticker and save in a list\n",
    "    series = [groups_by_variable.get_group(ticker) for ticker in demand_points_ids]\n",
    "    # Create a pool process with the number of worker processes being the number of CPUs\n",
    "    p = Pool(cpu_count())\n",
    "    # Make predictions for each ticker and save the results to a list\n",
    "    predictions = list(tqdm(p.imap(train_and_forecast, series), total=len(series)))\n",
    "    # Terminate the pool process\n",
    "    p.close()\n",
    "    # Tell the pool to wait till all the jobs are finished before exit\n",
    "    p.join()\n",
    "    # Concatenate results\n",
    "    multiprocess_forecast = pd.concat(predictions)\n",
    "    # Get the time used for the forecast\n",
    "    print('\\nThe time used for the multi-processing forecast is ', time()-start_time)\n",
    "    # Save the results\n",
    "    multiprocess_forecast.to_csv('prophet.csv', index=False)\n",
    "    "
   ]
  },
  {
   "cell_type": "code",
   "execution_count": 9,
   "metadata": {
    "id": "otm749S-gl0w"
   },
   "outputs": [],
   "source": [
    "# Train and Forecast for Prophet Model\n",
    "def train_and_forecast(group):\n",
    "  # Initiate the model\n",
    "  m = Prophet()\n",
    "  \n",
    "  # Fit the model\n",
    "  m.fit(group)\n",
    "  # Make predictions\n",
    "  future = m.make_future_dataframe(periods=2, freq='Y')\n",
    "  forecast = m.predict(future)[['ds', 'yhat', 'yhat_lower', 'yhat_upper']]\n",
    "  forecast['dp_id'] = group['dp_id'].iloc[0]\n",
    "  \n",
    "  # Return the forecasted results\n",
    "  return forecast[['ds', 'dp_id', 'yhat', 'yhat_upper', 'yhat_lower']]"
   ]
  },
  {
   "cell_type": "markdown",
   "metadata": {
    "id": "96OMFkxhqmC-"
   },
   "source": [
    "**Helper Function Implementation For the Prophet Implementation**"
   ]
  },
  {
   "cell_type": "code",
   "execution_count": 14,
   "metadata": {
    "id": "quv9_b13gbH7"
   },
   "outputs": [],
   "source": [
    "def get_preds(multiprocess_forecast, year=2018):\n",
    "  ids = list(set(multiprocess_forecast.dp_id.tolist()))\n",
    "  preds = []\n",
    "  if year == 2018:\n",
    "    for i in ids:\n",
    "      preds.append(multiprocess_forecast[multiprocess_forecast['dp_id'] == ids[i]].iloc[8].yhat_upper)\n",
    "  elif(year == 2019 or year == 2020):\n",
    "    for i in ids:\n",
    "      preds.append([multiprocess_forecast[multiprocess_forecast['dp_id'] == ids[i]].iloc[9].yhat_upper,multiprocess_forecast[multiprocess_forecast['dp_id'] == ids[i]].iloc[10].yhat_upper])\n",
    "  return preds"
   ]
  },
  {
   "cell_type": "code",
   "execution_count": null,
   "metadata": {
    "id": "DI4wNCt9N0Bg"
   },
   "outputs": [],
   "source": [
    "preds = get_preds(prophet_18, year=2018)"
   ]
  },
  {
   "cell_type": "code",
   "execution_count": null,
   "metadata": {
    "id": "vXgCyCgvTWHg"
   },
   "outputs": [],
   "source": [
    "proph_18 = pd.DataFrame(preds,columns=['preds'])"
   ]
  },
  {
   "cell_type": "code",
   "execution_count": 9,
   "metadata": {
    "id": "0vLi18vHhk7R"
   },
   "outputs": [],
   "source": [
    "def prophet_preds_save(preds, year=2018):\n",
    "  if year == 2018:\n",
    "    preds_df = pd.concat([demand_history[['demand_point_index','2018']],pd.DataFrame(preds,columns=['prediction'])],axis=1)\n",
    "    preds_df = preds_df.rename(columns ={\"2018\":\"value\"})\n",
    "  elif(year == 2019 or year == 2020):\n",
    "    preds_df = pd.concat([demand_history[['demand_point_index']],pd.DataFrame(preds,columns=['2019','2020'])],axis=1)\n",
    "  preds_df.to_csv(\"predictions_2019_2020.csv\",index=False)\n",
    "\n"
   ]
  },
  {
   "cell_type": "code",
   "execution_count": null,
   "metadata": {
    "id": "PGSaVI7yhlNB"
   },
   "outputs": [],
   "source": [
    "# Calculate RMSE to Validate 2018\n",
    "rmse = sqrt(mean_squared_error(preds_df['value'], preds_df['prediction'])) \n",
    "print(f\"RMSE: {rmse}\")\n",
    "\n",
    "# The sum of the mean absolute error of the demand\n",
    "sum_of_mae = (preds_df['prediction']-preds_df['value']).abs().sum()\n",
    "print(f\"MAE: {sum_of_mae}\")\n",
    "\n",
    "\n",
    "mape = np.mean(np.abs((preds_df['value'] - preds_df['prediction']) / preds_df['value'])) * 100\n",
    "print(f\"MAPE: {mape}\")\n",
    "\n",
    "# Histogram of the Mean Absolute Error\n",
    "plt.hist((preds_df['prediction']-preds_df['value']).abs(), bins = 25)\n",
    "plt.show()"
   ]
  },
  {
   "cell_type": "code",
   "execution_count": 39,
   "metadata": {
    "id": "AdObGAGiiNu2"
   },
   "outputs": [],
   "source": [
    "def dph_train_test_id(demand_history, mode = 'validate'):\n",
    "  demand_point_idx_coords =  demand_history[['demand_point_index','x_coordinate','y_coordinate']]\n",
    "  if mode == 'validate':\n",
    "    demand_points_history_train = demand_history[['demand_point_index', '2010', '2011','2012', '2013', '2014', '2015', '2016', '2017']]\n",
    "    demand_points_history_test = demand_history[['demand_point_index', '2018']]\n",
    "  elif mode == 'train' :\n",
    "    demand_points_history_train = demand_history[['demand_point_index', '2010', '2011','2012', '2013', '2014', '2015', '2016', '2017','2018']]\n",
    "    demand_points_history_test = 0\n",
    "\n",
    "\n",
    "  return demand_point_idx_coords, demand_points_history_train, demand_points_history_test\n",
    "  \n",
    "\n",
    "\n"
   ]
  },
  {
   "cell_type": "code",
   "execution_count": 40,
   "metadata": {
    "id": "JzxaWFvipcNB"
   },
   "outputs": [],
   "source": [
    "demand_point_idx_coords, demand_points_history_train, demand_points_history_test =  dph_train_test_id(demand_history, mode = 'validate')"
   ]
  },
  {
   "cell_type": "code",
   "execution_count": 41,
   "metadata": {
    "id": "PkLl2MKYi7iv"
   },
   "outputs": [],
   "source": [
    "\n",
    "'''\n",
    "This helper function  transforms a demand point history row to column series\n",
    "@ demand_points_hist: refers to the demand_points_history data frame\n",
    "@ i: the row of the dataframe which is also equal to the demand point \n",
    "'''\n",
    "def row_to_column_series(demand_points_hist, i):\n",
    "\n",
    "    d_specific = demand_points_hist.loc[demand_points_hist['demand_point_index'] == i].T.reset_index().reset_index()\n",
    "    demand_point_idx = d_specific.columns.tolist()[-1]\n",
    "    d_specific= d_specific.rename(columns ={'level_0': 'demand_point_index' , 'index':'year', d_specific.columns.tolist()[-1] : 'demand'} )\n",
    "    d_specific = d_specific.iloc[1:] \n",
    "    d_specific= d_specific.reset_index(drop= True)\n",
    "    d_specific['demand_point_index'] = demand_point_idx\n",
    "\n",
    "    return d_specific\n"
   ]
  },
  {
   "cell_type": "code",
   "execution_count": 196,
   "metadata": {},
   "outputs": [
    {
     "data": {
      "image/png": "[encoded data removed]",
      "text/plain": [
       "<Figure size 1296x360 with 1 Axes>"
      ]
     },
     "metadata": {
      "needs_background": "light"
     },
     "output_type": "display_data"
    }
   ],
   "source": [
    "# plot the observations\n",
    "plt.figure(100, figsize=(18, 5))\n",
    "ts.plot();"
   ]
  },
  {
   "cell_type": "code",
   "execution_count": 58,
   "metadata": {
    "id": "ux36UeOZtEya"
   },
   "outputs": [],
   "source": [
    "'''\n",
    "This function makes the forecast predictions\n",
    "@ demand_points_hist: refers to the demand_points_history data frame\n",
    "@ year: the year we are going to make the prediction\n",
    "'''\n",
    "\n",
    "def calculate_predictions(demand_points_hist, mode='NeuralProphet', year = '2018'):\n",
    "  results = []\n",
    "  DEMAND_POINTS = demand_points_hist['demand_point_index'].tolist()\n",
    "\n",
    "\n",
    "  for i in tqdm(DEMAND_POINTS):\n",
    "\n",
    "    d_specific = row_to_column_series(demand_points_hist, i)\n",
    "\n",
    "    X = np.array(d_specific['year']).reshape(-1,1).astype(int)\n",
    "    y = np.array(d_specific['demand'])\n",
    "\n",
    "\n",
    "    if mode == \"XGBoost\":\n",
    "\n",
    "      params = {\n",
    "      # Parameters that we are going to tune.\n",
    "      'max_depth':6,\n",
    "      'n_estimators': 100,\n",
    "      'eta':.3,\n",
    "      'subsample': 1,\n",
    "      'colsample_bytree': 1,\n",
    "      }\n",
    "      model = xgb.XGBRegressor(**params,objective ='reg:linear', verbosity = 0, random_state=42)\n",
    "      model.fit(X, y)\n",
    "      val = np.array([[year]],dtype=\"object\")\n",
    "      preds = model.predict(val)\n",
    "      results.append(preds[0])\n",
    "\n",
    "    elif mode =='NeuralProphet':\n",
    "      print(f'###################### Number of Point {i} ###################### ')\n",
    "      d_specific = row_to_column_series(demand_points_hist, i)\n",
    "      d_specific = d_specific[['year','demand']].rename(columns={'year':'ds','demand':'y'})\n",
    "      if sum(d_specific.y) == 0:\n",
    "        results.append(0)\n",
    "      else:\n",
    "        #m = NeuralProphet(weekly_seasonality=False, epochs = 100)\n",
    "        \n",
    "        m = NeuralProphet(growth='linear',\n",
    "    yearly_seasonality=False,\n",
    "    weekly_seasonality=False,\n",
    "    daily_seasonality=False,\n",
    "    batch_size=2,\n",
    "    epochs=10,\n",
    "    learning_rate=.5\n",
    "    )\n",
    "        metrics = m.fit(d_specific, freq='Y')\n",
    "        future = m.make_future_dataframe(d_specific, periods=2)\n",
    "        forecast = m.predict(future)\n",
    "        print(forecast)\n",
    "        if year == 2018:\n",
    "            results.append(forecast.iloc[0].yhat1)\n",
    "        else:\n",
    "            print([forecast.iloc[0].yhat1,forecast.iloc[1].yhat1])\n",
    "            results.append([forecast.iloc[0].yhat1,forecast.iloc[1].yhat1])\n",
    "            \n",
    "    elif mode =='KR':\n",
    "        model = KernelRidge(alpha=10.0)\n",
    "        model.fit(X,y)\n",
    "        val = np.array([[year]],dtype=\"object\")\n",
    "        preds = model.predict(val)\n",
    "        results.append(preds[0])\n",
    "        \n",
    "    elif mode == 'LG':\n",
    "        model = LinearRegression()\n",
    "        model.fit(X, y)\n",
    "        val = np.array([[year]],dtype=\"object\")\n",
    "        preds = model.predict(val)\n",
    "        results.append(preds[0])\n",
    "        \n",
    "    elif mode == 'Logistic':\n",
    "        model = LogisticRegression(solver='liblinear')\n",
    "        model.fit(X,y)\n",
    "        preds = model.predict(val)\n",
    "        results.append(preds[0])\n",
    "        \n",
    "    \n",
    "    elif mode =='LightGBM':\n",
    "      # LightGBM\n",
    "      params = {\n",
    "      'boosting_type': 'gbdt',\n",
    "      'objective': 'regression',\n",
    "      'metric': {'l2', 'l1'},\n",
    "      'num_leaves': 20,\n",
    "      'learning_rate': 0.4,\n",
    "      'feature_fraction': 0.9,\n",
    "      'bagging_fraction': 0.8,\n",
    "      'bagging_freq': 5,\n",
    "      'verbose': 0\n",
    "      }\n",
    "\n",
    "      lgb_train = lgb.Dataset(X, y)\n",
    "      # train\n",
    "      model = lgb.train(params,lgb_train,num_boost_round=100)\n",
    "      val = np.array([[year]],dtype=\"int\")\n",
    "      preds = model.predict(val)\n",
    "      results.append(preds[0])\n",
    "\n",
    "    elif mode == 'SARIMAX':\n",
    "      # SARIMAX\n",
    "      model = SARIMAX(y)\n",
    "      model_fit = model.fit()\n",
    "      # make prediction\n",
    "      results.append(model_fit.forecast()[0])\n",
    "    \n",
    "    elif mode =='Poly':\n",
    "      #Using a Simple Polynomial Regressor\n",
    "      poly = PolynomialFeatures(degree=5, include_bias=False)\n",
    "      x_ = poly.fit_transform(X)\n",
    "      model = LinearRegression().fit(x_, y)\n",
    "      val = np.array([[year]],dtype=\"object\")\n",
    "      preds = model.predict(poly.fit_transform(val))\n",
    "      results.append(preds[0])\n",
    "    # # MAE: 87297\n",
    "\n",
    "\n",
    "  return results"
   ]
  },
  {
   "cell_type": "code",
   "execution_count": 59,
   "metadata": {
    "id": "JzxaWFvipcNB"
   },
   "outputs": [],
   "source": [
    "demand_point_idx_coords, demand_points_history_train, demand_points_history_test =  dph_train_test_id(demand_history, mode = 'validate')"
   ]
  },
  {
   "cell_type": "code",
   "execution_count": 72,
   "metadata": {
    "id": "A7pqnaWTEZMk",
    "scrolled": true
   },
   "outputs": [],
   "source": [
    "%%capture\n",
    "res = calculate_predictions(demand_points_history_train, mode='NeuralProphet', year=2019) "
   ]
  },
  {
   "cell_type": "code",
   "execution_count": 45,
   "metadata": {},
   "outputs": [
    {
     "name": "stdout",
     "output_type": "stream",
     "text": [
      "RMSE: 21.246813208409666\n",
      "MAE: 63711.683339898154\n",
      "MAPE: 21.234721787777495\n"
     ]
    },
    {
     "data": {
      "image/png": "[encoded data removed]",
      "text/plain": [
       "<Figure size 432x288 with 1 Axes>"
      ]
     },
     "metadata": {
      "needs_background": "light"
     },
     "output_type": "display_data"
    }
   ],
   "source": [
    "'''\n",
    " \n",
    "Validate the model with 2018 as the forecast year\n",
    " \n",
    "'''\n",
    "\n",
    "# Merge the predictions with the true values\n",
    "demand_evaluate = pd.merge(demand_predictions,demand_points_history_test[['demand_point_index','2018']],on='demand_point_index', how='left')\n",
    "# Calculate RMSE\n",
    "rmse = sqrt(mean_squared_error(demand_evaluate['2018'], demand_evaluate.preds)) \n",
    "print(f\"RMSE: {rmse}\")\n",
    "\n",
    "# The sum of the mean absolute error of the demand\n",
    "sum_of_mae = (demand_evaluate['preds']-demand_evaluate['2018']).abs().sum()\n",
    "print(f\"MAE: {sum_of_mae}\")\n",
    "\n",
    "mape = np.mean(np.abs((demand_evaluate['2018'] - demand_evaluate['preds']) / demand_evaluate['2018'])) * 100\n",
    "print(f\"MAPE: {mape}\")\n",
    "\n",
    "# Histogram of the Mean Absolute Error\n",
    "plt.hist((demand_evaluate['preds']-demand_evaluate['2018']).abs(), bins = 25)\n",
    "plt.show()"
   ]
  },
  {
   "cell_type": "code",
   "execution_count": 42,
   "metadata": {
    "id": "GR7rmShIhsSQ"
   },
   "outputs": [],
   "source": [
    "'''\n",
    "This helper function plots a timeseries\n",
    "@ demand_points_hist: refers to the demand_points_history data frame\n",
    "@ year: the year we are going to make the prediction\n",
    "'''\n",
    "def series_plot(df):\n",
    "  figure(figsize=(8, 6),  dpi=80)\n",
    "  plt.plot(df['year'].astype(int),df['demand'], marker='o')\n",
    "  plt.show()\n"
   ]
  },
  {
   "cell_type": "code",
   "execution_count": null,
   "metadata": {},
   "outputs": [],
   "source": [
    "%%time\n",
    "%%capture\n",
    "import logging\n",
    "logging.getLogger('fbprophet').setLevel(logging.WARNING)\n",
    "# Calculate the results for the desired year, first prediction is 2019\n",
    "res = calculate_predictions(demand_points_history_train, mode='NeuralProphet', year=2019) \n",
    "# Get only the predictions columns, prophet 2018\n",
    "# results = pd.DataFrame(res,  columns =['preds'])\n",
    "\n",
    "for i, value in enumerate(np.where(np.array(res) == 0 )[0]):\n",
    "  res[value] = [0,0]\n",
    "  \n",
    "results = pd.DataFrame(res,columns=['2019','2020'])\n",
    "# Concate the predictions with the demand_point_index\n",
    "demand_predictions = pd.concat([demand_point_idx_coords,results], axis = 1)\n",
    "\n",
    "demand_predictions.to_csv('demand_predictios_neural_prophet_2019_2020.csv', index=False)\n",
    "\n",
    "%%time\n",
    "%%capture\n",
    "import logging\n",
    "logging.getLogger('fbprophet').setLevel(logging.WARNING)\n",
    "# Calculate the results for the desired year, first prediction is 2019\n",
    "res = calculate_predictions(demand_points_history_train, mode='NeuralProphet', year=2018) \n",
    "# Get only the predictions columns\n",
    "results = pd.DataFrame(res,  columns =['preds'])\n",
    "\n",
    "# Concate the predictions with the demand_point_index\n",
    "demand_predictions = pd.concat([demand_point_idx_coords,results], axis = 1)\n",
    "\n",
    "demand_predictions.to_csv('demand_predictios_neural_prophet_2018.csv', index=False)"
   ]
  },
  {
   "cell_type": "code",
   "execution_count": null,
   "metadata": {},
   "outputs": [],
   "source": [
    "# 2018 Results\n",
    "results = pd.DataFrame(res,  columns =['preds'])\n",
    "\n",
    "# Concate the predictions with the demand_point_index\n",
    "demand_predictions = pd.concat([demand_point_idx_coords,results], axis = 1)\n",
    "demand_predictions.to_csv('demand_predictios_LG_2018.csv', index=False)\n",
    "\n",
    "# 2019 and 2020 Results Using Poly\n",
    "\n",
    "res_2019 = calculate_predictions(demand_points_history_train, mode='Poly', year=2019) \n",
    "res_2019 = pd.DataFrame(res_2019,  columns =['preds_2019'])\n",
    "res_2020 = calculate_predictions(demand_points_history_train, mode='Poly', year=2020) \n",
    "res_2020 = pd.DataFrame(res_2020,  columns =['preds_2020'])\n",
    "\n"
   ]
  },
  {
   "cell_type": "code",
   "execution_count": null,
   "metadata": {},
   "outputs": [],
   "source": [
    "demand_predictions_2019_2020 = pd.concat([demand_point_idx_coords,res_2019,res_2020], axis = 1)\n",
    "demand_predictions_2019_2020.to_csv('demand_predictions_poly_2019_2020.csv', index=False)\n",
    "\n",
    "neural_prophet = pd.read_csv('demand_predictios_neural_prophet_2018.csv')\n",
    "demand_predictions_2019 = demand_predictions.rename(columns ={\"x_coordinate\":\"x\",\"y_coordinate\":\"y\",\"preds\":\"value\"})\n",
    "\n",
    "# To save\n",
    "demand_predictions_2019.to_csv('demand_2019.csv', index=False)\n",
    "demand_points_history_train_2 = pd.concat([demand_points_history_train,demand_predictions_2019['value']],axis=1).rename(columns = {\"value\":\"2019\"})\n",
    "\n",
    "# Calculate the results for the desired year, first prediction is 2019\n",
    "res = calculate_predictions(demand_points_history_train_2,year=2020)\n",
    "\n",
    "# Get only the predictions columns\n",
    "results = pd.DataFrame(res,  columns =['preds'])\n",
    "\n",
    "# Concate the predictions with the demand_point_index\n",
    "demand_predictions = pd.concat([demand_point_idx_coords,results], axis = 1)\n",
    "demand_predictions_2020 = demand_predictions.rename(columns ={\"x_coordinate\":\"x\",\"y_coordinate\":\"y\",\"preds\":\"value\"})\n",
    "\n",
    "# To save as csv\n",
    "demand_predictions_2020.to_csv('demand_2020.csv', index=False)\n"
   ]
  }
 ],
 "metadata": {
  "colab": {
   "collapsed_sections": [],
   "private_outputs": true,
   "provenance": []
  },
  "kernelspec": {
   "display_name": "Python 3 (ipykernel)",
   "language": "python",
   "name": "python3"
  },
  "language_info": {
   "codemirror_mode": {
    "name": "ipython",
    "version": 3
   },
   "file_extension": ".py",
   "mimetype": "text/x-python",
   "name": "python",
   "nbconvert_exporter": "python",
   "pygments_lexer": "ipython3",
   "version": "3.9.13"
  }
 },
 "nbformat": 4,
 "nbformat_minor": 1
}
