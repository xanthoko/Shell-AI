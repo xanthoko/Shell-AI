{
 "cells": [
  {
   "cell_type": "code",
   "execution_count": 1,
   "id": "53bbc78d",
   "metadata": {},
   "outputs": [],
   "source": [
    "import pandas as pd \n",
    "from scipy.optimize import minimize\n",
    "from sklearn.metrics import mean_absolute_error, mean_squared_error\n",
    "from math import sqrt\n",
    "import matplotlib.pyplot as plt\n",
    "import numpy as np\n",
    "from tqdm.notebook import tqdm"
   ]
  },
  {
   "cell_type": "code",
   "execution_count": 90,
   "id": "0259681e",
   "metadata": {},
   "outputs": [],
   "source": [
    "# Import from uploaded files \n",
    "base_dir = './dataset/'\n",
    "#base_dir = '/content/drive/MyDrive/ShellBy AI/'\n",
    "\n",
    "\n",
    "demand_history = pd.read_csv(base_dir + 'Demand_History.csv')\n",
    "prophet_18 = pd.read_csv(base_dir + 'prophet_2018.csv')\n",
    "neural_prophet_18 = pd.read_csv(base_dir +'demand_predictios_neural_prophet_2018.csv')\n",
    "lg_18 = pd.read_csv(base_dir + 'demand_predictios_LG_2018.csv')\n",
    "sarimax_18 = pd.read_csv(base_dir + 'demand_predictios_SARIMAX_2018.csv')"
   ]
  },
  {
   "cell_type": "code",
   "execution_count": 3,
   "id": "dfcf6c30",
   "metadata": {},
   "outputs": [],
   "source": [
    "def get_preds(multiprocess_forecast, year=2018):\n",
    "  ids = list(set(multiprocess_forecast.dp_id.tolist()))\n",
    "  preds = []\n",
    "  if year == 2018:\n",
    "    for i in ids:\n",
    "      preds.append(multiprocess_forecast[multiprocess_forecast['dp_id'] == ids[i]].iloc[8].yhat_upper)\n",
    "  elif(year == 2019 or year == 2020):\n",
    "    for i in ids:\n",
    "      preds.append([multiprocess_forecast[multiprocess_forecast['dp_id'] == ids[i]].iloc[9].yhat_upper,multiprocess_forecast[multiprocess_forecast['dp_id'] == ids[i]].iloc[10].yhat_upper])\n",
    "  return preds"
   ]
  },
  {
   "cell_type": "code",
   "execution_count": 93,
   "id": "a56fc34a",
   "metadata": {},
   "outputs": [],
   "source": [
    "preds = get_preds(prophet_18, year=2018)\n",
    "prophet_18 = pd.DataFrame(preds,columns=['preds'])\n",
    "neural_prophet_18 = neural_prophet_18.rename(columns={'2018':'preds'})"
   ]
  },
  {
   "cell_type": "code",
   "execution_count": 105,
   "id": "24dd36be",
   "metadata": {},
   "outputs": [
    {
     "name": "stderr",
     "output_type": "stream",
     "text": [
      "C:\\Users\\Tolis\\AppData\\Local\\Temp\\ipykernel_11480\\4046217341.py:1: FutureWarning: Support for multi-dimensional indexing (e.g. `obj[:, None]`) is deprecated and will be removed in a future version.  Convert to a numpy array before indexing instead.\n",
      "  train_predictions = np.concatenate([prophet_18.preds[:,None], neural_prophet_18.preds[:,None], lg_18.preds[:,None], sarimax_18.preds[:,None]], axis=1)\n"
     ]
    }
   ],
   "source": [
    "train_predictions = np.concatenate([prophet_18.preds[:,None], neural_prophet_18.preds[:,None], lg_18.preds[:,None], sarimax_18.preds[:,None]], axis=1)"
   ]
  },
  {
   "cell_type": "code",
   "execution_count": 106,
   "id": "20e07123",
   "metadata": {},
   "outputs": [],
   "source": [
    "def objective(weights):\n",
    "    #Calculate the score of mean absolute error of predictions\n",
    "    y_ens = np.average(train_predictions, axis=1, weights=weights)\n",
    "    return (demand_history['2018']- y_ens).abs().sum()"
   ]
  },
  {
   "cell_type": "code",
   "execution_count": 107,
   "id": "292f3e70",
   "metadata": {
    "scrolled": false
   },
   "outputs": [
    {
     "data": {
      "application/vnd.jupyter.widget-view+json": {
       "model_id": "049a7ffac0524258a204ca9f34ef0099",
       "version_major": 2,
       "version_minor": 0
      },
      "text/plain": [
       "  0%|          | 0/100 [00:00<?, ?it/s]"
      ]
     },
     "metadata": {},
     "output_type": "display_data"
    },
    {
     "name": "stdout",
     "output_type": "stream",
     "text": [
      "\n",
      "Optimized weights:\n",
      "Prophet: 0.0000\n",
      "NeuralProphet: 0.4516\n",
      "Linear Regression: 0.5484\n",
      "SARIMax Regression: 0.0000\n",
      "Best score: 24450.0467\n"
     ]
    }
   ],
   "source": [
    "from scipy.optimize import minimize\n",
    "\n",
    "results_list = []    # a list to store the best score of each round\n",
    "weights_list = []    # a list to store the best weights of each round\n",
    "\n",
    "for k in tqdm(range(100)):\n",
    "    # I randomly set the initial weights from which the algorithm will try searching a minima    \n",
    "    w0 = np.random.uniform(size=train_predictions.shape[1])\n",
    "\n",
    "    # I define bounds, i.e. lower and upper values of weights.\n",
    "    # I want the weights to be between 0 and 1.\n",
    "    bounds = [(0,1)] * train_predictions.shape[1]\n",
    "\n",
    "    # I set some constraints. Here, I want the sum of the weights to be equal to 1\n",
    "    cons = [{'type': 'eq',\n",
    "             'fun': lambda w: w.sum() - 1}]\n",
    "\n",
    "    # I can now search for the best weights\n",
    "    res = minimize(objective,\n",
    "                   w0,\n",
    "                   method='SLSQP',\n",
    "                   bounds=bounds,\n",
    "                   options={'disp':False, 'maxiter':10000},\n",
    "                   constraints=cons)\n",
    "\n",
    "    # I save the best score and the best weights of\n",
    "    # this round in their respective lists\n",
    "    results_list.append(res.fun)\n",
    "    weights_list.append(res.x)\n",
    "\n",
    "# After running all the rounds, I extract the best score\n",
    "# and the corresponding weights\n",
    "best_score = np.min(results_list)    \n",
    "best_weights = weights_list[results_list.index(best_score)]\n",
    "\n",
    "print('\\nOptimized weights:')\n",
    "print('Prophet: {:.4f}'.format(best_weights[0]))\n",
    "print('NeuralProphet: {:.4f}'.format(best_weights[1]))\n",
    "print('Linear Regression: {:.4f}'.format(best_weights[2]))\n",
    "print('SARIMax Regression: {:.4f}'.format(best_weights[3]))\n",
    "print('Best score: {:.4f}'.format(best_score))"
   ]
  },
  {
   "cell_type": "code",
   "execution_count": 108,
   "id": "166591f6",
   "metadata": {},
   "outputs": [],
   "source": [
    "# Testing the neural prophet and prophet version\n",
    "demand_evaluate_test =  prophet_18.preds*best_weights[0] + neural_prophet_18.preds*best_weights[1] + lg_18.preds*best_weights[2]"
   ]
  },
  {
   "cell_type": "code",
   "execution_count": 109,
   "id": "c0bc35fa",
   "metadata": {
    "scrolled": true
   },
   "outputs": [
    {
     "name": "stdout",
     "output_type": "stream",
     "text": [
      "RMSE: 10.572476544215252\n",
      "MAE: 24449.639140853214\n"
     ]
    },
    {
     "data": {
      "image/png": "[encoded data removed]",
      "text/plain": [
       "<Figure size 432x288 with 1 Axes>"
      ]
     },
     "metadata": {
      "needs_background": "light"
     },
     "output_type": "display_data"
    }
   ],
   "source": [
    "\n",
    "# Calculate RMSE\n",
    "rmse = sqrt(mean_squared_error(demand_history['2018'], demand_evaluate_test)) \n",
    "print(f\"RMSE: {rmse}\")\n",
    "\n",
    "# The sum of the mean absolute error of the demand\n",
    "sum_of_mae = (demand_evaluate_test-demand_history['2018']).abs().sum()\n",
    "print(f'MAE: {sum_of_mae}')\n",
    "\n",
    "# mape = np.mean(np.abs((demand_history['2018'] - demand_evaluate_test) /demand_history['2018'])) * 100\n",
    "# print(f\"MAPE: {mape}\")\n",
    "\n",
    "\n",
    "# Histogram of the Mean Absolute Error\n",
    "plt.hist((demand_evaluate_test-demand_history['2018']).abs(), bins = 25)\n",
    "plt.show()"
   ]
  },
  {
   "cell_type": "code",
   "execution_count": 113,
   "id": "d64d902f",
   "metadata": {},
   "outputs": [],
   "source": [
    "ensemble_np_p_2019_2020 = prophet_2019_2020"
   ]
  },
  {
   "cell_type": "code",
   "execution_count": 114,
   "id": "3a87c3a3",
   "metadata": {},
   "outputs": [],
   "source": [
    "ensemble_np_p_2019_2020['2019'] =  prophet_2019_2020['2019']*best_weights[0] + neural_prophet_2019_2020['2019']*best_weights[1] + lg_2019_2020['2019']*best_weights[2] \n",
    "ensemble_np_p_2019_2020['2020'] =  prophet_2019_2020['2020']*best_weights[0] + neural_prophet_2019_2020['2020']*best_weights[1] + lg_2019_2020['2020']*best_weights[2] "
   ]
  },
  {
   "cell_type": "code",
   "execution_count": 116,
   "id": "bf8cc77a",
   "metadata": {},
   "outputs": [],
   "source": [
    "ensemble_np_p_2019_2020.to_csv('ensemble_2019_2020.csv', index=False)"
   ]
  }
 ],
 "metadata": {
  "kernelspec": {
   "display_name": "Python 3 (ipykernel)",
   "language": "python",
   "name": "python3"
  },
  "language_info": {
   "codemirror_mode": {
    "name": "ipython",
    "version": 3
   },
   "file_extension": ".py",
   "mimetype": "text/x-python",
   "name": "python",
   "nbconvert_exporter": "python",
   "pygments_lexer": "ipython3",
   "version": "3.9.13"
  }
 },
 "nbformat": 4,
 "nbformat_minor": 5
}
